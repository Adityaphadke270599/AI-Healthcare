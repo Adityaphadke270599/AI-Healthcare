{
  "nbformat": 4,
  "nbformat_minor": 0,
  "metadata": {
    "colab": {
      "provenance": [],
      "gpuType": "T4",
      "authorship_tag": "ABX9TyPUqpTirvghumh+8SEHYaOT",
      "include_colab_link": true
    },
    "kernelspec": {
      "name": "python3",
      "display_name": "Python 3"
    },
    "language_info": {
      "name": "python"
    },
    "accelerator": "GPU"
  },
  "cells": [
    {
      "cell_type": "markdown",
      "metadata": {
        "id": "view-in-github",
        "colab_type": "text"
      },
      "source": [
        "<a href=\"https://colab.research.google.com/github/Adityaphadke270599/AI-Healthcare/blob/main/AI_HealthCare_5.ipynb\" target=\"_parent\"><img src=\"https://colab.research.google.com/assets/colab-badge.svg\" alt=\"Open In Colab\"/></a>"
      ]
    },
    {
      "cell_type": "code",
      "source": [
        "!pip install pandas numpy scikit-learn tensorflow matplotlib seaborn"
      ],
      "metadata": {
        "id": "IjLZipIXH8pg",
        "colab": {
          "base_uri": "https://localhost:8080/"
        },
        "outputId": "2fb90337-1c2a-4f44-ad6f-546b85f2dff2"
      },
      "execution_count": null,
      "outputs": [
        {
          "output_type": "stream",
          "name": "stdout",
          "text": [
            "Requirement already satisfied: pandas in /usr/local/lib/python3.10/dist-packages (2.2.2)\n",
            "Requirement already satisfied: numpy in /usr/local/lib/python3.10/dist-packages (1.26.4)\n",
            "Requirement already satisfied: scikit-learn in /usr/local/lib/python3.10/dist-packages (1.5.2)\n",
            "Requirement already satisfied: tensorflow in /usr/local/lib/python3.10/dist-packages (2.17.1)\n",
            "Requirement already satisfied: matplotlib in /usr/local/lib/python3.10/dist-packages (3.8.0)\n",
            "Requirement already satisfied: seaborn in /usr/local/lib/python3.10/dist-packages (0.13.2)\n",
            "Requirement already satisfied: python-dateutil>=2.8.2 in /usr/local/lib/python3.10/dist-packages (from pandas) (2.8.2)\n",
            "Requirement already satisfied: pytz>=2020.1 in /usr/local/lib/python3.10/dist-packages (from pandas) (2024.2)\n",
            "Requirement already satisfied: tzdata>=2022.7 in /usr/local/lib/python3.10/dist-packages (from pandas) (2024.2)\n",
            "Requirement already satisfied: scipy>=1.6.0 in /usr/local/lib/python3.10/dist-packages (from scikit-learn) (1.13.1)\n",
            "Requirement already satisfied: joblib>=1.2.0 in /usr/local/lib/python3.10/dist-packages (from scikit-learn) (1.4.2)\n",
            "Requirement already satisfied: threadpoolctl>=3.1.0 in /usr/local/lib/python3.10/dist-packages (from scikit-learn) (3.5.0)\n",
            "Requirement already satisfied: absl-py>=1.0.0 in /usr/local/lib/python3.10/dist-packages (from tensorflow) (1.4.0)\n",
            "Requirement already satisfied: astunparse>=1.6.0 in /usr/local/lib/python3.10/dist-packages (from tensorflow) (1.6.3)\n",
            "Requirement already satisfied: flatbuffers>=24.3.25 in /usr/local/lib/python3.10/dist-packages (from tensorflow) (24.3.25)\n",
            "Requirement already satisfied: gast!=0.5.0,!=0.5.1,!=0.5.2,>=0.2.1 in /usr/local/lib/python3.10/dist-packages (from tensorflow) (0.6.0)\n",
            "Requirement already satisfied: google-pasta>=0.1.1 in /usr/local/lib/python3.10/dist-packages (from tensorflow) (0.2.0)\n",
            "Requirement already satisfied: h5py>=3.10.0 in /usr/local/lib/python3.10/dist-packages (from tensorflow) (3.12.1)\n",
            "Requirement already satisfied: libclang>=13.0.0 in /usr/local/lib/python3.10/dist-packages (from tensorflow) (18.1.1)\n",
            "Requirement already satisfied: ml-dtypes<0.5.0,>=0.3.1 in /usr/local/lib/python3.10/dist-packages (from tensorflow) (0.4.1)\n",
            "Requirement already satisfied: opt-einsum>=2.3.2 in /usr/local/lib/python3.10/dist-packages (from tensorflow) (3.4.0)\n",
            "Requirement already satisfied: packaging in /usr/local/lib/python3.10/dist-packages (from tensorflow) (24.2)\n",
            "Requirement already satisfied: protobuf!=4.21.0,!=4.21.1,!=4.21.2,!=4.21.3,!=4.21.4,!=4.21.5,<5.0.0dev,>=3.20.3 in /usr/local/lib/python3.10/dist-packages (from tensorflow) (4.25.5)\n",
            "Requirement already satisfied: requests<3,>=2.21.0 in /usr/local/lib/python3.10/dist-packages (from tensorflow) (2.32.3)\n",
            "Requirement already satisfied: setuptools in /usr/local/lib/python3.10/dist-packages (from tensorflow) (75.1.0)\n",
            "Requirement already satisfied: six>=1.12.0 in /usr/local/lib/python3.10/dist-packages (from tensorflow) (1.16.0)\n",
            "Requirement already satisfied: termcolor>=1.1.0 in /usr/local/lib/python3.10/dist-packages (from tensorflow) (2.5.0)\n",
            "Requirement already satisfied: typing-extensions>=3.6.6 in /usr/local/lib/python3.10/dist-packages (from tensorflow) (4.12.2)\n",
            "Requirement already satisfied: wrapt>=1.11.0 in /usr/local/lib/python3.10/dist-packages (from tensorflow) (1.16.0)\n",
            "Requirement already satisfied: grpcio<2.0,>=1.24.3 in /usr/local/lib/python3.10/dist-packages (from tensorflow) (1.67.1)\n",
            "Requirement already satisfied: tensorboard<2.18,>=2.17 in /usr/local/lib/python3.10/dist-packages (from tensorflow) (2.17.1)\n",
            "Requirement already satisfied: keras>=3.2.0 in /usr/local/lib/python3.10/dist-packages (from tensorflow) (3.5.0)\n",
            "Requirement already satisfied: tensorflow-io-gcs-filesystem>=0.23.1 in /usr/local/lib/python3.10/dist-packages (from tensorflow) (0.37.1)\n",
            "Requirement already satisfied: contourpy>=1.0.1 in /usr/local/lib/python3.10/dist-packages (from matplotlib) (1.3.1)\n",
            "Requirement already satisfied: cycler>=0.10 in /usr/local/lib/python3.10/dist-packages (from matplotlib) (0.12.1)\n",
            "Requirement already satisfied: fonttools>=4.22.0 in /usr/local/lib/python3.10/dist-packages (from matplotlib) (4.54.1)\n",
            "Requirement already satisfied: kiwisolver>=1.0.1 in /usr/local/lib/python3.10/dist-packages (from matplotlib) (1.4.7)\n",
            "Requirement already satisfied: pillow>=6.2.0 in /usr/local/lib/python3.10/dist-packages (from matplotlib) (11.0.0)\n",
            "Requirement already satisfied: pyparsing>=2.3.1 in /usr/local/lib/python3.10/dist-packages (from matplotlib) (3.2.0)\n",
            "Requirement already satisfied: wheel<1.0,>=0.23.0 in /usr/local/lib/python3.10/dist-packages (from astunparse>=1.6.0->tensorflow) (0.45.0)\n",
            "Requirement already satisfied: rich in /usr/local/lib/python3.10/dist-packages (from keras>=3.2.0->tensorflow) (13.9.4)\n",
            "Requirement already satisfied: namex in /usr/local/lib/python3.10/dist-packages (from keras>=3.2.0->tensorflow) (0.0.8)\n",
            "Requirement already satisfied: optree in /usr/local/lib/python3.10/dist-packages (from keras>=3.2.0->tensorflow) (0.13.1)\n",
            "Requirement already satisfied: charset-normalizer<4,>=2 in /usr/local/lib/python3.10/dist-packages (from requests<3,>=2.21.0->tensorflow) (3.4.0)\n",
            "Requirement already satisfied: idna<4,>=2.5 in /usr/local/lib/python3.10/dist-packages (from requests<3,>=2.21.0->tensorflow) (3.10)\n",
            "Requirement already satisfied: urllib3<3,>=1.21.1 in /usr/local/lib/python3.10/dist-packages (from requests<3,>=2.21.0->tensorflow) (2.2.3)\n",
            "Requirement already satisfied: certifi>=2017.4.17 in /usr/local/lib/python3.10/dist-packages (from requests<3,>=2.21.0->tensorflow) (2024.8.30)\n",
            "Requirement already satisfied: markdown>=2.6.8 in /usr/local/lib/python3.10/dist-packages (from tensorboard<2.18,>=2.17->tensorflow) (3.7)\n",
            "Requirement already satisfied: tensorboard-data-server<0.8.0,>=0.7.0 in /usr/local/lib/python3.10/dist-packages (from tensorboard<2.18,>=2.17->tensorflow) (0.7.2)\n",
            "Requirement already satisfied: werkzeug>=1.0.1 in /usr/local/lib/python3.10/dist-packages (from tensorboard<2.18,>=2.17->tensorflow) (3.1.3)\n",
            "Requirement already satisfied: MarkupSafe>=2.1.1 in /usr/local/lib/python3.10/dist-packages (from werkzeug>=1.0.1->tensorboard<2.18,>=2.17->tensorflow) (3.0.2)\n",
            "Requirement already satisfied: markdown-it-py>=2.2.0 in /usr/local/lib/python3.10/dist-packages (from rich->keras>=3.2.0->tensorflow) (3.0.0)\n",
            "Requirement already satisfied: pygments<3.0.0,>=2.13.0 in /usr/local/lib/python3.10/dist-packages (from rich->keras>=3.2.0->tensorflow) (2.18.0)\n",
            "Requirement already satisfied: mdurl~=0.1 in /usr/local/lib/python3.10/dist-packages (from markdown-it-py>=2.2.0->rich->keras>=3.2.0->tensorflow) (0.1.2)\n"
          ]
        }
      ]
    },
    {
      "cell_type": "code",
      "source": [
        "from google.colab import files\n",
        "import pandas as pd\n",
        "import matplotlib.pyplot as plt\n",
        "import seaborn as sns\n",
        "import numpy as np\n",
        "import os\n",
        "from sklearn.ensemble import RandomForestClassifier\n",
        "from sklearn.metrics import classification_report, roc_auc_score\n",
        "from sklearn.model_selection import train_test_split\n",
        "from imblearn.over_sampling import SMOTE"
      ],
      "metadata": {
        "id": "XNYhtYe3IgQ3"
      },
      "execution_count": null,
      "outputs": []
    },
    {
      "cell_type": "code",
      "source": [
        "icustays_path = \"/content/ICUSTAYS.csv.gz\"  # Update with actual path\n",
        "icustays = pd.read_csv(icustays_path, compression= 'gzip')"
      ],
      "metadata": {
        "id": "Fpxqsg7YImE1"
      },
      "execution_count": null,
      "outputs": []
    },
    {
      "cell_type": "code",
      "source": [
        "# Define the file paths\n",
        "labevents_path = \"/content/LABEVENTS.csv.gz\"  # Update with actual path\n",
        "admissions_path = \"/content/ADMISSIONS.csv.gz\"  # Update with actual path\n",
        "patients_path = \"/content/PATIENTS.csv.gz\"  # Update with actual path\n",
        "\n",
        "# Read the CSV files using the paths\n",
        "labevents = pd.read_csv(labevents_path, compression='gzip') # Note the compression for .gz\n",
        "admissions = pd.read_csv(admissions_path, compression='gzip' )\n",
        "patients = pd.read_csv(patients_path, compression='gzip')\n"
      ],
      "metadata": {
        "id": "XY8ORRLC7ec9"
      },
      "execution_count": null,
      "outputs": []
    },
    {
      "cell_type": "code",
      "source": [
        "chartevents_path = \"/content/CHARTEVENTS_COMPRESSED.csv\"  # Update with actual path\n",
        "chartevents = pd.read_csv(chartevents_path)"
      ],
      "metadata": {
        "id": "aDSqMA0H7Xcu"
      },
      "execution_count": null,
      "outputs": []
    },
    {
      "cell_type": "code",
      "source": [
        "# Inspect the first few rows of each dataset\n",
        "print(\"LABEVENTS Data:\")\n",
        "print(labevents.head())\n",
        "\n",
        "print(\"\\nADMISSIONS Data:\")\n",
        "print(admissions.head())\n",
        "\n",
        "print(\"\\nPATIENTS Data:\")\n",
        "print(patients.head())\n",
        "\n",
        "print(\"\\nICUSTAYS Data:\")\n",
        "print(icustays.head())\n",
        "\n",
        "print(\"\\nCHARTEVENTS Data:\")\n",
        "print(chartevents.head())\n"
      ],
      "metadata": {
        "colab": {
          "base_uri": "https://localhost:8080/"
        },
        "id": "Zi2a44XCwq4J",
        "outputId": "05e763e2-9366-48d8-e63a-f16875893625"
      },
      "execution_count": null,
      "outputs": [
        {
          "output_type": "stream",
          "name": "stdout",
          "text": [
            "LABEVENTS Data:\n",
            "   SUBJECT_ID  HADM_ID  ITEMID  VALUENUM            CHARTTIME\n",
            "0           3      NaN   50820      7.39  2101-10-12 16:07:00\n",
            "1           3      NaN   50800       NaN  2101-10-12 18:17:00\n",
            "2           3      NaN   50802     -1.00  2101-10-12 18:17:00\n",
            "3           3      NaN   50804     22.00  2101-10-12 18:17:00\n",
            "4           3      NaN   50808      0.93  2101-10-12 18:17:00\n",
            "\n",
            "ADMISSIONS Data:\n",
            "   SUBJECT_ID  HADM_ID            ADMITTIME            DISCHTIME  \\\n",
            "0          22   165315  2196-04-09 12:26:00  2196-04-10 15:54:00   \n",
            "1          23   152223  2153-09-03 07:15:00  2153-09-08 19:10:00   \n",
            "2          23   124321  2157-10-18 19:34:00  2157-10-25 14:00:00   \n",
            "3          24   161859  2139-06-06 16:14:00  2139-06-09 12:48:00   \n",
            "4          25   129635  2160-11-02 02:06:00  2160-11-05 14:55:00   \n",
            "\n",
            "   HOSPITAL_EXPIRE_FLAG  \n",
            "0                     0  \n",
            "1                     0  \n",
            "2                     0  \n",
            "3                     0  \n",
            "4                     0  \n",
            "\n",
            "PATIENTS Data:\n",
            "   SUBJECT_ID GENDER                  DOB\n",
            "0         249      F  2075-03-13 00:00:00\n",
            "1         250      F  2164-12-27 00:00:00\n",
            "2         251      M  2090-03-15 00:00:00\n",
            "3         252      M  2078-03-06 00:00:00\n",
            "4         253      F  2089-11-26 00:00:00\n",
            "\n",
            "ICUSTAYS Data:\n",
            "   SUBJECT_ID  HADM_ID  ICUSTAY_ID     LOS\n",
            "0         268   110404      280836  3.2490\n",
            "1         269   106296      206613  3.2788\n",
            "2         270   188028      220345  2.8939\n",
            "3         271   173727      249196  2.0600\n",
            "4         272   164716      210407  1.6202\n",
            "\n",
            "CHARTEVENTS Data:\n",
            "   SUBJECT_ID  HADM_ID  ICUSTAY_ID  ITEMID  VALUENUM         CHARTTIME\n",
            "0         109   172335    262652.0  223761      98.2  21-09-2141 00:00\n",
            "1         109   172335    262652.0  223834       2.0  21-09-2141 00:00\n",
            "2         109   172335    262652.0  220179     144.0  21-09-2141 00:01\n",
            "3         109   172335    262652.0  220180      84.0  21-09-2141 00:01\n",
            "4         109   172335    262652.0  220181     100.0  21-09-2141 00:01\n"
          ]
        }
      ]
    },
    {
      "cell_type": "code",
      "source": [
        "# Select relevant columns for each dataset\n",
        "labevents = labevents[['SUBJECT_ID', 'HADM_ID', 'ITEMID', 'VALUENUM', 'CHARTTIME']]\n",
        "admissions = admissions[['SUBJECT_ID', 'HADM_ID', 'ADMITTIME', 'DISCHTIME', 'HOSPITAL_EXPIRE_FLAG']]\n",
        "patients = patients[['SUBJECT_ID', 'GENDER', 'DOB']]\n",
        "icustays = icustays[['SUBJECT_ID', 'HADM_ID', 'ICUSTAY_ID', 'LOS']]\n",
        "chartevents = chartevents[['SUBJECT_ID', 'HADM_ID', 'ICUSTAY_ID', 'ITEMID', 'VALUENUM', 'CHARTTIME']]\n"
      ],
      "metadata": {
        "id": "PoODJj7RxN1w"
      },
      "execution_count": null,
      "outputs": []
    },
    {
      "cell_type": "code",
      "source": [
        "# Ventilator-related ITEMIDs\n",
        "ventilator_itemids = [ 682, 224685, 505, 224696, 683, 224684, 618, 619, 224690, 224695,224700, 224701]\n",
        "\n",
        "# Filter CHARTEVENTS for ventilator parameters\n",
        "ventilator_data = chartevents[chartevents['ITEMID'].isin(ventilator_itemids)]\n",
        "\n",
        "# Display filtered data to ensure correctness\n",
        "print(\"Filtered Ventilator Data:\")\n",
        "print(ventilator_data)"
      ],
      "metadata": {
        "colab": {
          "base_uri": "https://localhost:8080/"
        },
        "id": "dnqn6c6uxQIc",
        "outputId": "49f608f2-8fe9-490b-d3fe-306c73ef4bc8"
      },
      "execution_count": null,
      "outputs": [
        {
          "output_type": "stream",
          "name": "stdout",
          "text": [
            "Filtered Ventilator Data:\n",
            "       SUBJECT_ID  HADM_ID  ICUSTAY_ID  ITEMID  VALUENUM         CHARTTIME\n",
            "10568         111   155897    249202.0  224685     365.0  01-07-2144 11:30\n",
            "10572         111   155897    249202.0  224690      12.0  01-07-2144 11:30\n",
            "10573         111   155897    249202.0  224695      32.0  01-07-2144 11:30\n",
            "10575         111   155897    249202.0  224700       8.0  01-07-2144 11:30\n",
            "10580         111   155897    249202.0  224685     418.0  01-07-2144 11:35\n",
            "...           ...      ...         ...     ...       ...               ...\n",
            "14580         124   138376    256064.0  224695      29.0  17-01-2166 04:00\n",
            "14617         124   138376    256064.0  224684     600.0  17-01-2166 07:00\n",
            "14618         124   138376    256064.0  224685     686.0  17-01-2166 07:00\n",
            "14622         124   138376    256064.0  224690      25.0  17-01-2166 07:00\n",
            "14623         124   138376    256064.0  224695      27.0  17-01-2166 07:00\n",
            "\n",
            "[193 rows x 6 columns]\n"
          ]
        }
      ]
    },
    {
      "cell_type": "code",
      "source": [
        "# Ensure rows with HOSPITAL_EXPIRE_FLAG = 0 are retained\n",
        "merged_data_2 = ventilator_data.merge(icustays, on=['SUBJECT_ID', 'ICUSTAY_ID', 'HADM_ID'], how='inner')\n",
        "final_merged_data = merged_data_2.merge(admissions, on=['SUBJECT_ID', 'HADM_ID'], how='outer')\n",
        "final_merged_data = final_merged_data.merge(patients, on='SUBJECT_ID', how='inner')\n",
        "# Display merged data preview\n",
        "print(\"Merged Data Preview:\")\n",
        "print(final_merged_data)\n"
      ],
      "metadata": {
        "colab": {
          "base_uri": "https://localhost:8080/"
        },
        "id": "y4IPWt8fxmPu",
        "outputId": "deae8f93-e1f2-4541-e3db-2bec6a4f2efb"
      },
      "execution_count": null,
      "outputs": [
        {
          "output_type": "stream",
          "name": "stdout",
          "text": [
            "Merged Data Preview:\n",
            "       SUBJECT_ID  HADM_ID  ICUSTAY_ID  ITEMID  VALUENUM CHARTTIME  LOS  \\\n",
            "0               2   163353         NaN     NaN       NaN       NaN  NaN   \n",
            "1               3   145834         NaN     NaN       NaN       NaN  NaN   \n",
            "2               4   185777         NaN     NaN       NaN       NaN  NaN   \n",
            "3               5   178980         NaN     NaN       NaN       NaN  NaN   \n",
            "4               6   107064         NaN     NaN       NaN       NaN  NaN   \n",
            "...           ...      ...         ...     ...       ...       ...  ...   \n",
            "59162       99985   176670         NaN     NaN       NaN       NaN  NaN   \n",
            "59163       99991   151118         NaN     NaN       NaN       NaN  NaN   \n",
            "59164       99992   197084         NaN     NaN       NaN       NaN  NaN   \n",
            "59165       99995   137810         NaN     NaN       NaN       NaN  NaN   \n",
            "59166       99999   113369         NaN     NaN       NaN       NaN  NaN   \n",
            "\n",
            "                 ADMITTIME            DISCHTIME  HOSPITAL_EXPIRE_FLAG GENDER  \\\n",
            "0      2138-07-17 19:04:00  2138-07-21 15:48:00                     0      M   \n",
            "1      2101-10-20 19:08:00  2101-10-31 13:58:00                     0      M   \n",
            "2      2191-03-16 00:28:00  2191-03-23 18:41:00                     0      F   \n",
            "3      2103-02-02 04:31:00  2103-02-04 12:15:00                     0      M   \n",
            "4      2175-05-30 07:15:00  2175-06-15 16:00:00                     0      F   \n",
            "...                    ...                  ...                   ...    ...   \n",
            "59162  2181-01-27 02:47:00  2181-02-12 17:05:00                     0      M   \n",
            "59163  2184-12-24 08:30:00  2185-01-05 12:15:00                     0      M   \n",
            "59164  2144-07-25 18:03:00  2144-07-28 17:56:00                     0      F   \n",
            "59165  2147-02-08 08:00:00  2147-02-11 13:15:00                     0      F   \n",
            "59166  2117-12-30 07:15:00  2118-01-04 16:30:00                     0      F   \n",
            "\n",
            "                       DOB  \n",
            "0      2138-07-17 00:00:00  \n",
            "1      2025-04-11 00:00:00  \n",
            "2      2143-05-12 00:00:00  \n",
            "3      2103-02-02 00:00:00  \n",
            "4      2109-06-21 00:00:00  \n",
            "...                    ...  \n",
            "59162  2127-04-08 00:00:00  \n",
            "59163  2137-04-07 00:00:00  \n",
            "59164  2078-10-17 00:00:00  \n",
            "59165  2058-05-29 00:00:00  \n",
            "59166  2054-01-06 00:00:00  \n",
            "\n",
            "[59167 rows x 12 columns]\n"
          ]
        }
      ]
    },
    {
      "cell_type": "code",
      "source": [
        "\n",
        "# Calculate age and mean ventilator value\n",
        "final_merged_data['CHARTTIME'] = pd.to_datetime(final_merged_data['CHARTTIME'], errors='coerce')\n",
        "final_merged_data['DOB'] = pd.to_datetime(final_merged_data['DOB'], errors='coerce')\n",
        "final_merged_data['AGE'] = final_merged_data.apply(\n",
        "    lambda row: row['CHARTTIME'].year - row['DOB'].year if pd.notnull(row['CHARTTIME']) and pd.notnull(row['DOB']) else None,\n",
        "    axis=1\n",
        ")\n",
        "\n",
        "# Aggregate mean ventilator value\n",
        "ventilator_features = final_merged_data.groupby('SUBJECT_ID')['VALUENUM'].mean().reset_index()\n",
        "ventilator_features.rename(columns={'VALUENUM': 'MEAN_VALUENUM'}, inplace=True)\n",
        "\n",
        "# Merge back and encode gender\n",
        "final_merged_data = final_merged_data.merge(ventilator_features, on='SUBJECT_ID', how='left')\n",
        "final_merged_data['GENDER'] = final_merged_data['GENDER'].apply(lambda x: 1 if x == 'M' else 0)\n",
        "final_merged_data['target'] = final_merged_data['HOSPITAL_EXPIRE_FLAG'].apply(lambda x: 1 if x == 0 else 0)\n",
        "\n",
        "print(\"Final Dataset Preview:\")\n",
        "print(final_merged_data[['SUBJECT_ID', 'MEAN_VALUENUM', 'AGE', 'GENDER', 'target']].head())"
      ],
      "metadata": {
        "colab": {
          "base_uri": "https://localhost:8080/"
        },
        "id": "8S8brgVY1kD3",
        "outputId": "1cc23ff5-16dd-466a-af81-2fb95c9c1613"
      },
      "execution_count": null,
      "outputs": [
        {
          "output_type": "stream",
          "name": "stdout",
          "text": [
            "Final Dataset Preview:\n",
            "   SUBJECT_ID  MEAN_VALUENUM  AGE  GENDER  target\n",
            "0           2            NaN  NaN       0       1\n",
            "1           3            NaN  NaN       0       1\n",
            "2           4            NaN  NaN       0       1\n",
            "3           5            NaN  NaN       0       1\n",
            "4           6            NaN  NaN       0       1\n"
          ]
        }
      ]
    },
    {
      "cell_type": "code",
      "source": [
        "# Convert relevant columns to datetime\n",
        "final_merged_data['ADMITTIME'] = pd.to_datetime(final_merged_data['ADMITTIME'], errors='coerce')\n",
        "final_merged_data['DISCHTIME'] = pd.to_datetime(final_merged_data['DISCHTIME'], errors='coerce')\n",
        "final_merged_data['CHARTTIME'] = pd.to_datetime(final_merged_data['CHARTTIME'], errors='coerce')"
      ],
      "metadata": {
        "id": "Dc2kboFH-Oye"
      },
      "execution_count": null,
      "outputs": []
    },
    {
      "cell_type": "code",
      "source": [
        "# Calculate time difference between ventilator measurement and admission/discharge\n",
        "final_merged_data['TIME_FROM_ADMIT'] = (final_merged_data['CHARTTIME'] - final_merged_data['ADMITTIME']).dt.total_seconds() / 3600\n",
        "final_merged_data['TIME_TO_DISCHARGE'] = (final_merged_data['DISCHTIME'] - final_merged_data['CHARTTIME']).dt.total_seconds() / 3600\n",
        "\n",
        "print(\"Time-based features added:\")\n",
        "print(final_merged_data[['TIME_FROM_ADMIT', 'TIME_TO_DISCHARGE']].head())"
      ],
      "metadata": {
        "colab": {
          "base_uri": "https://localhost:8080/"
        },
        "id": "pwGY3L5L-Q7o",
        "outputId": "a4281c8c-b2d6-46a5-c017-1a296b3ab26a"
      },
      "execution_count": null,
      "outputs": [
        {
          "output_type": "stream",
          "name": "stdout",
          "text": [
            "Time-based features added:\n",
            "   TIME_FROM_ADMIT  TIME_TO_DISCHARGE\n",
            "0              NaN                NaN\n",
            "1              NaN                NaN\n",
            "2              NaN                NaN\n",
            "3              NaN                NaN\n",
            "4              NaN                NaN\n"
          ]
        }
      ]
    },
    {
      "cell_type": "code",
      "source": [
        "print(\"Target class distribution:\")\n",
        "print(final_merged_data['target'].value_counts())"
      ],
      "metadata": {
        "colab": {
          "base_uri": "https://localhost:8080/"
        },
        "id": "DSje4NW21q8T",
        "outputId": "9f536137-f55d-4010-e1c0-6213a198de9e"
      },
      "execution_count": null,
      "outputs": [
        {
          "output_type": "stream",
          "name": "stdout",
          "text": [
            "Target class distribution:\n",
            "target\n",
            "1    53122\n",
            "0     6045\n",
            "Name: count, dtype: int64\n"
          ]
        }
      ]
    },
    {
      "cell_type": "code",
      "source": [
        "# Verify alignment of X and y\n",
        "print(f\"Shape of X: {X.shape}\")\n",
        "print(f\"Shape of y: {y.shape}\")\n",
        "\n",
        "# Check if the indices of X and y match\n",
        "print(\"Do indices of X and y match?\")\n",
        "print((X.index == y.index).all())"
      ],
      "metadata": {
        "colab": {
          "base_uri": "https://localhost:8080/"
        },
        "id": "iHkkc1PP2Y7_",
        "outputId": "c4e1ff73-e883-4d61-e190-47e5554e4af2"
      },
      "execution_count": null,
      "outputs": [
        {
          "output_type": "stream",
          "name": "stdout",
          "text": [
            "Shape of X: (59167, 3)\n",
            "Shape of y: (59167,)\n",
            "Do indices of X and y match?\n",
            "True\n"
          ]
        }
      ]
    },
    {
      "cell_type": "code",
      "source": [
        "from sklearn.impute import SimpleImputer\n",
        "\n",
        "# Initialize imputer with mean strategy\n",
        "imputer = SimpleImputer(strategy='mean')\n",
        "\n",
        "# Fit and transform the data\n",
        "X_imputed = pd.DataFrame(imputer.fit_transform(X), columns=X.columns)\n",
        "\n",
        "# Verify no missing values remain\n",
        "print(\"Missing values in X after imputation:\")\n",
        "print(X_imputed.isnull().sum())"
      ],
      "metadata": {
        "colab": {
          "base_uri": "https://localhost:8080/"
        },
        "id": "qRlPJPO22iMG",
        "outputId": "186cc37a-5f7e-4bda-db4d-054fe570d1a6"
      },
      "execution_count": null,
      "outputs": [
        {
          "output_type": "stream",
          "name": "stdout",
          "text": [
            "Missing values in X after imputation:\n",
            "MEAN_VALUENUM    0\n",
            "AGE              0\n",
            "GENDER           0\n",
            "dtype: int64\n"
          ]
        }
      ]
    },
    {
      "cell_type": "code",
      "source": [
        "from imblearn.over_sampling import SMOTE\n",
        "\n",
        "# Initialize SMOTE\n",
        "smote = SMOTE(random_state=42)\n",
        "\n",
        "# Apply SMOTE\n",
        "X_balanced, y_balanced = smote.fit_resample(X_imputed, y)\n",
        "\n",
        "# Verify class distribution after SMOTE\n",
        "print(\"Class distribution after SMOTE:\")\n",
        "print(pd.Series(y_balanced).value_counts())\n"
      ],
      "metadata": {
        "colab": {
          "base_uri": "https://localhost:8080/"
        },
        "id": "jzwe7br62wKc",
        "outputId": "0775058a-0a05-4057-f53d-c613bf9535d3"
      },
      "execution_count": null,
      "outputs": [
        {
          "output_type": "stream",
          "name": "stdout",
          "text": [
            "Class distribution after SMOTE:\n",
            "target\n",
            "1    53122\n",
            "0    53122\n",
            "Name: count, dtype: int64\n"
          ]
        }
      ]
    },
    {
      "cell_type": "code",
      "source": [
        "from sklearn.model_selection import train_test_split\n",
        "\n",
        "# Split the balanced data\n",
        "X_train, X_test, y_train, y_test = train_test_split(X_balanced, y_balanced, test_size=0.2, random_state=42, stratify=y_balanced)\n",
        "\n",
        "# Verify the distribution in the training and testing sets\n",
        "print(\"Class distribution in training set:\")\n",
        "print(pd.Series(y_train).value_counts())\n",
        "\n",
        "print(\"Class distribution in testing set:\")\n",
        "print(pd.Series(y_test).value_counts())\n"
      ],
      "metadata": {
        "colab": {
          "base_uri": "https://localhost:8080/"
        },
        "id": "PWZOiwdB2y52",
        "outputId": "d081ee96-da77-454c-9749-c2323d631e43"
      },
      "execution_count": null,
      "outputs": [
        {
          "output_type": "stream",
          "name": "stdout",
          "text": [
            "Class distribution in training set:\n",
            "target\n",
            "1    42498\n",
            "0    42497\n",
            "Name: count, dtype: int64\n",
            "Class distribution in testing set:\n",
            "target\n",
            "0    10625\n",
            "1    10624\n",
            "Name: count, dtype: int64\n"
          ]
        }
      ]
    },
    {
      "cell_type": "code",
      "source": [
        "from sklearn.ensemble import RandomForestClassifier\n",
        "\n",
        "# Train Random Forest model\n",
        "rf_model = RandomForestClassifier(random_state=42)\n",
        "rf_model.fit(X_train, y_train)\n",
        "\n",
        "print(\"Model trained successfully.\")\n"
      ],
      "metadata": {
        "colab": {
          "base_uri": "https://localhost:8080/"
        },
        "id": "YwtMqGKe24YV",
        "outputId": "1495a2ea-d153-422d-d8a8-e589ebf6eff4"
      },
      "execution_count": null,
      "outputs": [
        {
          "output_type": "stream",
          "name": "stdout",
          "text": [
            "Model trained successfully.\n"
          ]
        }
      ]
    },
    {
      "cell_type": "code",
      "source": [
        "from sklearn.model_selection import GridSearchCV\n",
        "\n",
        "# Define parameter grid\n",
        "param_grid = {\n",
        "    'n_estimators': [50, 100, 200],\n",
        "    'max_depth': [None, 10, 20],\n",
        "    'min_samples_split': [2, 5, 10],\n",
        "    'min_samples_leaf': [1, 2, 4]\n",
        "}\n",
        "\n",
        "# Initialize GridSearch\n",
        "grid_search = GridSearchCV(\n",
        "    RandomForestClassifier(random_state=42),\n",
        "    param_grid,\n",
        "    scoring='roc_auc',\n",
        "    cv=3,\n",
        "    verbose=2,\n",
        "    n_jobs=-1\n",
        ")\n",
        "\n",
        "# Fit grid search\n",
        "grid_search.fit(X_train, y_train)\n",
        "\n",
        "# Best parameters\n",
        "print(\"Best parameters:\", grid_search.best_params_)\n",
        "\n",
        "# Use the best model\n",
        "rf_best_model = grid_search.best_estimator_"
      ],
      "metadata": {
        "colab": {
          "base_uri": "https://localhost:8080/"
        },
        "id": "kaexfXDH837W",
        "outputId": "1897592b-072e-41b3-a9cd-5a3ab6ed6446"
      },
      "execution_count": null,
      "outputs": [
        {
          "output_type": "stream",
          "name": "stdout",
          "text": [
            "Fitting 3 folds for each of 81 candidates, totalling 243 fits\n",
            "Best parameters: {'max_depth': None, 'min_samples_leaf': 1, 'min_samples_split': 2, 'n_estimators': 50}\n"
          ]
        }
      ]
    },
    {
      "cell_type": "code",
      "source": [
        "# Aggregate ventilator statistics for each patient\n",
        "ventilator_stats = final_merged_data.groupby('SUBJECT_ID')['VALUENUM'].agg(\n",
        "    MEAN_VALUENUM='mean',\n",
        "    MEDIAN_VALUENUM='median',\n",
        "    STD_VALUENUM='std',\n",
        "    MAX_VALUENUM='max',\n",
        "    MIN_VALUENUM='min'\n",
        ").reset_index()\n",
        "\n",
        "# Merge back with the main dataset\n",
        "final_merged_data = final_merged_data.merge(ventilator_stats, on='SUBJECT_ID', how='left')\n",
        "\n",
        "print(\"Aggregated ventilator statistics added:\")\n",
        "print(final_merged_data[['MEAN_VALUENUM', 'MEDIAN_VALUENUM', 'STD_VALUENUM', 'MAX_VALUENUM', 'MIN_VALUENUM']].head())\n"
      ],
      "metadata": {
        "id": "TXBfC_6E-hHs"
      },
      "execution_count": null,
      "outputs": []
    },
    {
      "cell_type": "code",
      "source": [
        "# Filter LABEVENTS for relevant lab tests\n",
        "lab_itemids = [50820, 50821, 50822]  # Example: arterial blood gas, pH\n",
        "filtered_labevents = labevents[labevents['ITEMID'].isin(lab_itemids)]\n",
        "\n",
        "# Aggregate mean lab values per patient\n",
        "lab_stats = filtered_labevents.groupby('SUBJECT_ID')['VALUENUM'].mean().reset_index()\n",
        "lab_stats.rename(columns={'VALUENUM': 'MEAN_LAB_VALUENUM'}, inplace=True)\n",
        "\n",
        "# Merge with the main dataset\n",
        "final_merged_data = final_merged_data.merge(lab_stats, on='SUBJECT_ID', how='left')\n",
        "\n",
        "print(\"Lab-based features added:\")\n",
        "print(final_merged_data[['MEAN_LAB_VALUENUM']].head())\n"
      ],
      "metadata": {
        "id": "ELwisZSx_Qmc"
      },
      "execution_count": null,
      "outputs": []
    },
    {
      "cell_type": "code",
      "source": [
        "# Interaction features\n",
        "final_merged_data['AGE_MEAN_VALUENUM'] = final_merged_data['AGE'] * final_merged_data['MEAN_VALUENUM']\n",
        "final_merged_data['TIME_ADMIT_MEAN_VALUENUM'] = final_merged_data['TIME_FROM_ADMIT'] * final_merged_data['MEAN_VALUENUM']\n",
        "\n",
        "print(\"Interaction features added:\")\n",
        "print(final_merged_data[['AGE_MEAN_VALUENUM', 'TIME_ADMIT_MEAN_VALUENUM']].head())\n"
      ],
      "metadata": {
        "id": "8R6rNKYb_RY4"
      },
      "execution_count": null,
      "outputs": []
    },
    {
      "cell_type": "code",
      "source": [
        "# One-hot encode categorical variables if needed\n",
        "final_merged_data = pd.get_dummies(final_merged_data, columns=['GENDER'], drop_first=True)\n",
        "\n",
        "print(\"Final dataset with one-hot encoding:\")\n",
        "print(final_merged_data.head())\n"
      ],
      "metadata": {
        "id": "MWJd_e1Q_UnB"
      },
      "execution_count": null,
      "outputs": []
    },
    {
      "cell_type": "code",
      "source": [
        "def predict_weaning(subject_id, data, model):\n",
        "    patient_data = data[data['SUBJECT_ID'] == subject_id]\n",
        "    if patient_data.empty:\n",
        "        return f\"No ventilator data available for patient {subject_id}.\"\n",
        "    X_patient = patient_data[['MEAN_VALUENUM', 'AGE', 'GENDER']].iloc[0:1]\n",
        "    prediction = model.predict(X_patient)\n",
        "    return \"Successful weaning\" if prediction[0] == 1 else \"Weaning likely to fail\"\n",
        "\n",
        "subject_id = 111  # Replace with actual SUBJECT_ID\n",
        "print(predict_weaning(subject_id, final_merged_data, rf_model))\n"
      ],
      "metadata": {
        "colab": {
          "base_uri": "https://localhost:8080/"
        },
        "id": "k9Td5wtX29RL",
        "outputId": "3b7848cd-dd1d-4cac-a0cc-81822fe832ca"
      },
      "execution_count": null,
      "outputs": [
        {
          "output_type": "stream",
          "name": "stdout",
          "text": [
            "Weaning likely to fail\n"
          ]
        }
      ]
    },
    {
      "cell_type": "code",
      "source": [
        "import matplotlib.pyplot as plt\n",
        "from sklearn.metrics import RocCurveDisplay\n",
        "\n",
        "RocCurveDisplay.from_estimator(rf_model, X_test, y_test)\n",
        "plt.title(\"ROC Curve for Ventilator Weaning Prediction\")\n",
        "plt.show()\n"
      ],
      "metadata": {
        "colab": {
          "base_uri": "https://localhost:8080/",
          "height": 472
        },
        "id": "yzymkoTU3E-V",
        "outputId": "b06e5d70-b498-480e-a746-ca3b689ccecd"
      },
      "execution_count": null,
      "outputs": [
        {
          "output_type": "display_data",
          "data": {
            "text/plain": [
              "<Figure size 640x480 with 1 Axes>"
            ],
            "image/png": "[encoded data removed]"
          },
          "metadata": {}
        }
      ]
    }
  ]
}