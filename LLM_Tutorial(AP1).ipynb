{
  "nbformat": 4,
  "nbformat_minor": 0,
  "metadata": {
    "colab": {
      "provenance": [],
      "gpuType": "T4",
      "authorship_tag": "ABX9TyMN7GXKZ4+SMi4mYc62SVMF",
      "include_colab_link": true
    },
    "kernelspec": {
      "name": "python3",
      "display_name": "Python 3"
    },
    "language_info": {
      "name": "python"
    },
    "accelerator": "GPU"
  },
  "cells": [
    {
      "cell_type": "markdown",
      "metadata": {
        "id": "view-in-github",
        "colab_type": "text"
      },
      "source": [
        "<a href=\"https://colab.research.google.com/github/Adityaphadke270599/AI-Healthcare/blob/main/LLM_Tutorial(AP1).ipynb\" target=\"_parent\"><img src=\"https://colab.research.google.com/assets/colab-badge.svg\" alt=\"Open In Colab\"/></a>"
      ]
    },
    {
      "cell_type": "code",
      "execution_count": null,
      "metadata": {
        "colab": {
          "base_uri": "https://localhost:8080/"
        },
        "id": "DdIFICpwAtym",
        "outputId": "79f7f1c5-78cb-4110-bb46-adf20abd4bcd"
      },
      "outputs": [
        {
          "output_type": "stream",
          "name": "stdout",
          "text": [
            "Requirement already satisfied: dask in /usr/local/lib/python3.10/dist-packages (2024.10.0)\n",
            "Requirement already satisfied: click>=8.1 in /usr/local/lib/python3.10/dist-packages (from dask) (8.1.7)\n",
            "Requirement already satisfied: cloudpickle>=3.0.0 in /usr/local/lib/python3.10/dist-packages (from dask) (3.1.0)\n",
            "Requirement already satisfied: fsspec>=2021.09.0 in /usr/local/lib/python3.10/dist-packages (from dask) (2024.10.0)\n",
            "Requirement already satisfied: packaging>=20.0 in /usr/local/lib/python3.10/dist-packages (from dask) (24.2)\n",
            "Requirement already satisfied: partd>=1.4.0 in /usr/local/lib/python3.10/dist-packages (from dask) (1.4.2)\n",
            "Requirement already satisfied: pyyaml>=5.3.1 in /usr/local/lib/python3.10/dist-packages (from dask) (6.0.2)\n",
            "Requirement already satisfied: toolz>=0.10.0 in /usr/local/lib/python3.10/dist-packages (from dask) (0.12.1)\n",
            "Requirement already satisfied: importlib-metadata>=4.13.0 in /usr/local/lib/python3.10/dist-packages (from dask) (8.5.0)\n",
            "Requirement already satisfied: zipp>=3.20 in /usr/local/lib/python3.10/dist-packages (from importlib-metadata>=4.13.0->dask) (3.21.0)\n",
            "Requirement already satisfied: locket in /usr/local/lib/python3.10/dist-packages (from partd>=1.4.0->dask) (1.0.0)\n"
          ]
        }
      ],
      "source": [
        "!pip install dask"
      ]
    },
    {
      "cell_type": "code",
      "source": [
        "!pip install openai==0.27.8"
      ],
      "metadata": {
        "colab": {
          "base_uri": "https://localhost:8080/"
        },
        "id": "F6CnuORXRoGT",
        "outputId": "3eba6f29-085d-40df-eb34-af85b64c4da6"
      },
      "execution_count": null,
      "outputs": [
        {
          "output_type": "stream",
          "name": "stdout",
          "text": [
            "Requirement already satisfied: openai==0.27.8 in /usr/local/lib/python3.10/dist-packages (0.27.8)\n",
            "Requirement already satisfied: requests>=2.20 in /usr/local/lib/python3.10/dist-packages (from openai==0.27.8) (2.32.3)\n",
            "Requirement already satisfied: tqdm in /usr/local/lib/python3.10/dist-packages (from openai==0.27.8) (4.66.6)\n",
            "Requirement already satisfied: aiohttp in /usr/local/lib/python3.10/dist-packages (from openai==0.27.8) (3.11.2)\n",
            "Requirement already satisfied: charset-normalizer<4,>=2 in /usr/local/lib/python3.10/dist-packages (from requests>=2.20->openai==0.27.8) (3.4.0)\n",
            "Requirement already satisfied: idna<4,>=2.5 in /usr/local/lib/python3.10/dist-packages (from requests>=2.20->openai==0.27.8) (3.10)\n",
            "Requirement already satisfied: urllib3<3,>=1.21.1 in /usr/local/lib/python3.10/dist-packages (from requests>=2.20->openai==0.27.8) (2.2.3)\n",
            "Requirement already satisfied: certifi>=2017.4.17 in /usr/local/lib/python3.10/dist-packages (from requests>=2.20->openai==0.27.8) (2024.8.30)\n",
            "Requirement already satisfied: aiohappyeyeballs>=2.3.0 in /usr/local/lib/python3.10/dist-packages (from aiohttp->openai==0.27.8) (2.4.3)\n",
            "Requirement already satisfied: aiosignal>=1.1.2 in /usr/local/lib/python3.10/dist-packages (from aiohttp->openai==0.27.8) (1.3.1)\n",
            "Requirement already satisfied: attrs>=17.3.0 in /usr/local/lib/python3.10/dist-packages (from aiohttp->openai==0.27.8) (24.2.0)\n",
            "Requirement already satisfied: frozenlist>=1.1.1 in /usr/local/lib/python3.10/dist-packages (from aiohttp->openai==0.27.8) (1.5.0)\n",
            "Requirement already satisfied: multidict<7.0,>=4.5 in /usr/local/lib/python3.10/dist-packages (from aiohttp->openai==0.27.8) (6.1.0)\n",
            "Requirement already satisfied: propcache>=0.2.0 in /usr/local/lib/python3.10/dist-packages (from aiohttp->openai==0.27.8) (0.2.0)\n",
            "Requirement already satisfied: yarl<2.0,>=1.17.0 in /usr/local/lib/python3.10/dist-packages (from aiohttp->openai==0.27.8) (1.17.2)\n",
            "Requirement already satisfied: async-timeout<6.0,>=4.0 in /usr/local/lib/python3.10/dist-packages (from aiohttp->openai==0.27.8) (4.0.3)\n",
            "Requirement already satisfied: typing-extensions>=4.1.0 in /usr/local/lib/python3.10/dist-packages (from multidict<7.0,>=4.5->aiohttp->openai==0.27.8) (4.12.2)\n"
          ]
        }
      ]
    },
    {
      "cell_type": "code",
      "source": [
        "import pandas as pd\n",
        "# Load patient data\n",
        "patients = pd.read_csv('patients.csv')\n",
        "encounters = pd.read_csv('encounters.csv')\n",
        "conditions = pd.read_csv('conditions.csv')\n",
        "observations = pd.read_csv('observations.csv')"
      ],
      "metadata": {
        "id": "MFCuj__6CO6m"
      },
      "execution_count": null,
      "outputs": []
    },
    {
      "cell_type": "code",
      "source": [
        "import dask.dataframe as dd\n",
        "\n",
        "# Load datasets using Dask\n",
        "patients = dd.read_csv('patients.csv')\n",
        "encounters = dd.read_csv('encounters.csv')\n",
        "conditions = dd.read_csv('conditions.csv')\n",
        "\n",
        "# Perform lazy merging with Dask\n",
        "patient_encounters = dd.merge(\n",
        "    patients, encounters, left_on='Id', right_on='PATIENT', how='inner'\n",
        ")\n",
        "merged_profiles = dd.merge(\n",
        "    patient_encounters, conditions, left_on='PATIENT', right_on='PATIENT', how='left'\n",
        ")\n",
        "\n",
        "# Compute and save the merged result\n",
        "final_profiles = merged_profiles.compute()\n",
        "final_profiles.to_csv(\"merged_patient_profiles.csv\", index=False)\n",
        "print(final_profiles.head())"
      ],
      "metadata": {
        "colab": {
          "base_uri": "https://localhost:8080/"
        },
        "id": "E0K-2irMOokb",
        "outputId": "47a35b1a-f66d-4c5a-d809-b9291e69472b"
      },
      "execution_count": null,
      "outputs": [
        {
          "output_type": "stream",
          "name": "stderr",
          "text": [
            "/usr/local/lib/python3.10/dist-packages/dask/dataframe/__init__.py:42: FutureWarning: \n",
            "Dask dataframe query planning is disabled because dask-expr is not installed.\n",
            "\n",
            "You can install it with `pip install dask[dataframe]` or `conda install dask`.\n",
            "This will raise in a future version.\n",
            "\n",
            "  warnings.warn(msg, FutureWarning)\n"
          ]
        },
        {
          "output_type": "stream",
          "name": "stdout",
          "text": [
            "                                   Id_x   BIRTHDATE DEATHDATE          SSN  \\\n",
            "0  30a6452c-4297-a1ac-977a-6a23237c7b46  1994-02-06      <NA>  999-52-8591   \n",
            "1  30a6452c-4297-a1ac-977a-6a23237c7b46  1994-02-06      <NA>  999-52-8591   \n",
            "2  30a6452c-4297-a1ac-977a-6a23237c7b46  1994-02-06      <NA>  999-52-8591   \n",
            "3  30a6452c-4297-a1ac-977a-6a23237c7b46  1994-02-06      <NA>  999-52-8591   \n",
            "4  30a6452c-4297-a1ac-977a-6a23237c7b46  1994-02-06      <NA>  999-52-8591   \n",
            "\n",
            "     DRIVERS    PASSPORT PREFIX      FIRST   MIDDLE      LAST  ...  \\\n",
            "0  S99996852  X47758697X    Mr.  Joshua658  Alvin56  Kunde533  ...   \n",
            "1  S99996852  X47758697X    Mr.  Joshua658  Alvin56  Kunde533  ...   \n",
            "2  S99996852  X47758697X    Mr.  Joshua658  Alvin56  Kunde533  ...   \n",
            "3  S99996852  X47758697X    Mr.  Joshua658  Alvin56  Kunde533  ...   \n",
            "4  S99996852  X47758697X    Mr.  Joshua658  Alvin56  Kunde533  ...   \n",
            "\n",
            "   TOTAL_CLAIM_COST PAYER_COVERAGE REASONCODE REASONDESCRIPTION     START_y  \\\n",
            "0            1567.0           87.2        NaN              <NA>  2012-04-01   \n",
            "1            1567.0           87.2        NaN              <NA>  2012-04-01   \n",
            "2            1567.0           87.2        NaN              <NA>  2012-04-01   \n",
            "3            1567.0           87.2        NaN              <NA>  2012-04-01   \n",
            "4            1567.0           87.2        NaN              <NA>  2012-04-01   \n",
            "\n",
            "       STOP_y                             ENCOUNTER                  SYSTEM  \\\n",
            "0        <NA>  294d0dab-907e-8fce-7a47-0c0d322a5734  http://snomed.info/sct   \n",
            "1        <NA>  294d0dab-907e-8fce-7a47-0c0d322a5734  http://snomed.info/sct   \n",
            "2        <NA>  294d0dab-907e-8fce-7a47-0c0d322a5734  http://snomed.info/sct   \n",
            "3        <NA>  294d0dab-907e-8fce-7a47-0c0d322a5734  http://snomed.info/sct   \n",
            "4  2016-04-10  294d0dab-907e-8fce-7a47-0c0d322a5734  http://snomed.info/sct   \n",
            "\n",
            "      CODE_y                        DESCRIPTION_y  \n",
            "0  105531004     Housing unsatisfactory (finding)  \n",
            "1  224299000  Received higher education (finding)  \n",
            "2  266934004          Transport problem (finding)  \n",
            "3  422650009           Social isolation (finding)  \n",
            "4   73595000                     Stress (finding)  \n",
            "\n",
            "[5 rows x 49 columns]\n"
          ]
        }
      ]
    },
    {
      "cell_type": "code",
      "source": [
        "# Load the merged dataset\n",
        "final_profiles = pd.read_csv('merged_patient_profiles.csv')\n",
        "print(final_profiles.head())"
      ],
      "metadata": {
        "colab": {
          "base_uri": "https://localhost:8080/"
        },
        "id": "FQ42vmdHO9Zs",
        "outputId": "21dc6bdd-3665-4569-8f17-8b5455f6c797"
      },
      "execution_count": null,
      "outputs": [
        {
          "output_type": "stream",
          "name": "stderr",
          "text": [
            "<ipython-input-6-9532d90991f7>:2: DtypeWarning: Columns (2,8,11) have mixed types. Specify dtype option on import or set low_memory=False.\n",
            "  final_profiles = pd.read_csv('merged_patient_profiles.csv')\n"
          ]
        },
        {
          "output_type": "stream",
          "name": "stdout",
          "text": [
            "                                   Id_x   BIRTHDATE DEATHDATE          SSN  \\\n",
            "0  30a6452c-4297-a1ac-977a-6a23237c7b46  1994-02-06       NaN  999-52-8591   \n",
            "1  30a6452c-4297-a1ac-977a-6a23237c7b46  1994-02-06       NaN  999-52-8591   \n",
            "2  30a6452c-4297-a1ac-977a-6a23237c7b46  1994-02-06       NaN  999-52-8591   \n",
            "3  30a6452c-4297-a1ac-977a-6a23237c7b46  1994-02-06       NaN  999-52-8591   \n",
            "4  30a6452c-4297-a1ac-977a-6a23237c7b46  1994-02-06       NaN  999-52-8591   \n",
            "\n",
            "     DRIVERS    PASSPORT PREFIX      FIRST   MIDDLE      LAST  ...  \\\n",
            "0  S99996852  X47758697X    Mr.  Joshua658  Alvin56  Kunde533  ...   \n",
            "1  S99996852  X47758697X    Mr.  Joshua658  Alvin56  Kunde533  ...   \n",
            "2  S99996852  X47758697X    Mr.  Joshua658  Alvin56  Kunde533  ...   \n",
            "3  S99996852  X47758697X    Mr.  Joshua658  Alvin56  Kunde533  ...   \n",
            "4  S99996852  X47758697X    Mr.  Joshua658  Alvin56  Kunde533  ...   \n",
            "\n",
            "   TOTAL_CLAIM_COST PAYER_COVERAGE REASONCODE REASONDESCRIPTION     START_y  \\\n",
            "0            1567.0           87.2        NaN               NaN  2012-04-01   \n",
            "1            1567.0           87.2        NaN               NaN  2012-04-01   \n",
            "2            1567.0           87.2        NaN               NaN  2012-04-01   \n",
            "3            1567.0           87.2        NaN               NaN  2012-04-01   \n",
            "4            1567.0           87.2        NaN               NaN  2012-04-01   \n",
            "\n",
            "       STOP_y                             ENCOUNTER                  SYSTEM  \\\n",
            "0         NaN  294d0dab-907e-8fce-7a47-0c0d322a5734  http://snomed.info/sct   \n",
            "1         NaN  294d0dab-907e-8fce-7a47-0c0d322a5734  http://snomed.info/sct   \n",
            "2         NaN  294d0dab-907e-8fce-7a47-0c0d322a5734  http://snomed.info/sct   \n",
            "3         NaN  294d0dab-907e-8fce-7a47-0c0d322a5734  http://snomed.info/sct   \n",
            "4  2016-04-10  294d0dab-907e-8fce-7a47-0c0d322a5734  http://snomed.info/sct   \n",
            "\n",
            "      CODE_y                        DESCRIPTION_y  \n",
            "0  105531004     Housing unsatisfactory (finding)  \n",
            "1  224299000  Received higher education (finding)  \n",
            "2  266934004          Transport problem (finding)  \n",
            "3  422650009           Social isolation (finding)  \n",
            "4   73595000                     Stress (finding)  \n",
            "\n",
            "[5 rows x 49 columns]\n"
          ]
        }
      ]
    },
    {
      "cell_type": "code",
      "source": [
        "# Mask PII and PHI columns\n",
        "pii_columns = ['FIRST', 'LAST', 'MIDDLE', 'BIRTHDATE', 'ADDRESS', 'CITY', 'STATE', 'ZIP', 'SSN', 'DRIVERS']\n",
        "for col in pii_columns:\n",
        "    if col in merged_data.columns:\n",
        "        merged_data[col] = 'MASKED'\n",
        "\n",
        "# Optional: Drop irrelevant fields\n",
        "irrelevant_columns = ['SUFFIX', 'MAIDEN', 'MARITAL', 'PHONE', 'EMAIL']\n",
        "merged_data.drop(columns=[col for col in irrelevant_columns if col in merged_data.columns], inplace=True)\n",
        "\n",
        "# Ensure relevant data like 'PATIENT' remains intact\n",
        "print(merged_data.head())"
      ],
      "metadata": {
        "id": "Ek3T4sv6k5yk"
      },
      "execution_count": null,
      "outputs": []
    },
    {
      "cell_type": "code",
      "source": [
        "print(final_profiles.isnull().sum())"
      ],
      "metadata": {
        "colab": {
          "base_uri": "https://localhost:8080/"
        },
        "id": "MB1f0IgrPBfM",
        "outputId": "ee09156f-88fb-4e58-86f4-87a506bc35b7"
      },
      "execution_count": null,
      "outputs": [
        {
          "output_type": "stream",
          "name": "stdout",
          "text": [
            "Id_x                        0\n",
            "BIRTHDATE                   0\n",
            "DEATHDATE              414075\n",
            "SSN                         0\n",
            "DRIVERS                 10668\n",
            "PASSPORT                17215\n",
            "PREFIX                  14061\n",
            "FIRST                       0\n",
            "MIDDLE                  71013\n",
            "LAST                        0\n",
            "SUFFIX                 561761\n",
            "MAIDEN                 367565\n",
            "MARITAL                 31124\n",
            "RACE                        0\n",
            "ETHNICITY                   0\n",
            "GENDER                      0\n",
            "BIRTHPLACE                  0\n",
            "ADDRESS                     0\n",
            "CITY                        0\n",
            "STATE                       0\n",
            "COUNTY                      0\n",
            "FIPS                   245339\n",
            "ZIP                         0\n",
            "LAT                         0\n",
            "LON                         0\n",
            "HEALTHCARE_EXPENSES         0\n",
            "HEALTHCARE_COVERAGE         0\n",
            "INCOME                      0\n",
            "Id_y                        0\n",
            "START_x                     0\n",
            "STOP_x                      0\n",
            "PATIENT                     0\n",
            "ORGANIZATION                0\n",
            "PROVIDER                    0\n",
            "PAYER                       0\n",
            "ENCOUNTERCLASS              0\n",
            "CODE_x                      0\n",
            "DESCRIPTION_x               0\n",
            "BASE_ENCOUNTER_COST         0\n",
            "TOTAL_CLAIM_COST            0\n",
            "PAYER_COVERAGE              0\n",
            "REASONCODE             196335\n",
            "REASONDESCRIPTION      196335\n",
            "START_y                     0\n",
            "STOP_y                  95905\n",
            "ENCOUNTER                   0\n",
            "SYSTEM                      0\n",
            "CODE_y                      0\n",
            "DESCRIPTION_y               0\n",
            "dtype: int64\n"
          ]
        }
      ]
    },
    {
      "cell_type": "code",
      "source": [
        "print(final_profiles.columns)"
      ],
      "metadata": {
        "colab": {
          "base_uri": "https://localhost:8080/"
        },
        "id": "S8LcnZFpPGEe",
        "outputId": "bf8161aa-322a-46ef-d1d5-f120d53d5271"
      },
      "execution_count": null,
      "outputs": [
        {
          "output_type": "stream",
          "name": "stdout",
          "text": [
            "Index(['Id_x', 'BIRTHDATE', 'DEATHDATE', 'SSN', 'DRIVERS', 'PASSPORT',\n",
            "       'PREFIX', 'FIRST', 'MIDDLE', 'LAST', 'SUFFIX', 'MAIDEN', 'MARITAL',\n",
            "       'RACE', 'ETHNICITY', 'GENDER', 'BIRTHPLACE', 'ADDRESS', 'CITY', 'STATE',\n",
            "       'COUNTY', 'FIPS', 'ZIP', 'LAT', 'LON', 'HEALTHCARE_EXPENSES',\n",
            "       'HEALTHCARE_COVERAGE', 'INCOME', 'Id_y', 'START_x', 'STOP_x', 'PATIENT',\n",
            "       'ORGANIZATION', 'PROVIDER', 'PAYER', 'ENCOUNTERCLASS', 'CODE_x',\n",
            "       'DESCRIPTION_x', 'BASE_ENCOUNTER_COST', 'TOTAL_CLAIM_COST',\n",
            "       'PAYER_COVERAGE', 'REASONCODE', 'REASONDESCRIPTION', 'START_y',\n",
            "       'STOP_y', 'ENCOUNTER', 'SYSTEM', 'CODE_y', 'DESCRIPTION_y'],\n",
            "      dtype='object')\n"
          ]
        }
      ]
    },
    {
      "cell_type": "code",
      "source": [
        "import pandas as pd\n",
        "from datetime import datetime\n",
        "\n",
        "# Calculate age based on BIRTHDATE\n",
        "current_year = datetime.now().year\n",
        "final_profiles['AGE'] = current_year - pd.to_datetime(final_profiles['BIRTHDATE']).dt.year\n"
      ],
      "metadata": {
        "id": "f_-aj8zAPfoZ"
      },
      "execution_count": null,
      "outputs": []
    },
    {
      "cell_type": "code",
      "source": [
        "# Group by 'PATIENT' and aggregate key information\n",
        "patient_summary = final_profiles.groupby('PATIENT').agg({\n",
        "    'FIRST': 'first',             # First name\n",
        "    'LAST': 'first',              # Last name\n",
        "    'AGE': 'first',               # Calculated age\n",
        "    'DESCRIPTION_x': 'last',      # Most recent condition description (from encounters)\n",
        "    'START_x': 'last'             # Most recent encounter date (from encounters)\n",
        "}).reset_index()\n",
        "\n",
        "# Rename columns for clarity\n",
        "patient_summary.rename(columns={\n",
        "    'DESCRIPTION_x': 'DESCRIPTION',\n",
        "    'START_x': 'LAST_ENCOUNTER_DATE'\n",
        "}, inplace=True)\n",
        "\n",
        "print(patient_summary.head())\n"
      ],
      "metadata": {
        "colab": {
          "base_uri": "https://localhost:8080/"
        },
        "id": "aVHFIKqYPgmO",
        "outputId": "cbb1f92b-e7cf-4678-aa9f-92fe144be0af"
      },
      "execution_count": null,
      "outputs": [
        {
          "output_type": "stream",
          "name": "stdout",
          "text": [
            "                                PATIENT       FIRST          LAST  AGE  \\\n",
            "0  00732e11-5e4d-37b7-01f8-929a25536862   Antonia30   Schuster709   49   \n",
            "1  03bde354-de87-a404-4ab3-00edf0b184a7   Lahoma872  Greenholt190   20   \n",
            "2  0689b59f-0721-5384-9294-def3c13db427    Tomás404  Benavides239   29   \n",
            "3  081abe99-9641-1098-8903-61de9e66d9fa    Kieth891   McKenzie376   10   \n",
            "4  0bc53e6a-8820-ded4-57c5-7ccc6355354c  Marisha663     Carter549   48   \n",
            "\n",
            "                                  DESCRIPTION   LAST_ENCOUNTER_DATE  \n",
            "0             Follow-up encounter (procedure)  2024-08-21T14:05:28Z  \n",
            "1      Consultation for treatment (procedure)  2024-09-28T15:11:29Z  \n",
            "2           Encounter for symptom (procedure)  2024-09-05T14:11:59Z  \n",
            "3          Encounter for check up (procedure)  2024-08-14T00:44:59Z  \n",
            "4  General examination of patient (procedure)  2024-10-15T15:12:33Z  \n"
          ]
        }
      ]
    },
    {
      "cell_type": "code",
      "source": [
        "def generate_patient_context(patient_data):\n",
        "    \"\"\"\n",
        "    Generate a contextual prompt for GPT using available patient data.\n",
        "    \"\"\"\n",
        "    age = patient_data['AGE'] if 'AGE' in patient_data else 'MASKED'\n",
        "    description = patient_data.get('DESCRIPTION_x', patient_data.get('DESCRIPTION_y', 'Unknown condition'))\n",
        "    last_encounter = patient_data.get('START_x', 'Unknown date')\n",
        "\n",
        "    context = f\"\"\"\n",
        "    Patient ID: {patient_data['PATIENT']}\n",
        "    Age: {age}\n",
        "    Condition: {description}\n",
        "    Last Encounter Date: {last_encounter}\n",
        "\n",
        "    Task:\n",
        "    Based on the patient's condition, create a detailed treatment plan and follow-up steps.\n",
        "    \"\"\"\n",
        "    return context\n",
        "\n",
        "# Example usage\n",
        "example_patient = patient_summary.iloc[0]  # Get the first patient's data\n",
        "context_prompt = generate_patient_context(example_patient)\n",
        "print(\"Generated Context:\")\n",
        "print(context_prompt)\n"
      ],
      "metadata": {
        "colab": {
          "base_uri": "https://localhost:8080/"
        },
        "id": "jmPPMLqhafw9",
        "outputId": "d77cd99d-9fef-4031-becc-9e571dea2799"
      },
      "execution_count": null,
      "outputs": [
        {
          "output_type": "stream",
          "name": "stdout",
          "text": [
            "Generated Context:\n",
            "\n",
            "    Patient ID: 00732e11-5e4d-37b7-01f8-929a25536862\n",
            "    Age: 49\n",
            "    Condition: Unknown condition\n",
            "    Last Encounter Date: Unknown date\n",
            "    \n",
            "    Task:\n",
            "    Based on the patient's condition, create a detailed treatment plan and follow-up steps.\n",
            "    \n"
          ]
        }
      ]
    },
    {
      "cell_type": "code",
      "source": [
        "import openai\n",
        "\n",
        "# Set up OpenAI API key\n",
        "openai.api_key = \"\"\n",
        "\n",
        "# Function to query GPT for strategy\n",
        "def get_model_response(prompt):\n",
        "    \"\"\"\n",
        "    Query GPT with a given prompt and return the generated response.\n",
        "    \"\"\"\n",
        "    response = openai.ChatCompletion.create(\n",
        "        model=\"gpt-3.5-turbo\",\n",
        "        messages=[\n",
        "            {\"role\": \"system\", \"content\": \"You are a medical assistant specializing in providing treatment suggestions.\"},\n",
        "            {\"role\": \"user\", \"content\": prompt}\n",
        "        ],\n",
        "        max_tokens=200,\n",
        "        temperature=0.7\n",
        "    )\n",
        "    return response['choices'][0]['message']['content']\n",
        "response = get_model_response(context_prompt)\n",
        "print(\"Model Response:\")\n",
        "print(response)\n"
      ],
      "metadata": {
        "colab": {
          "base_uri": "https://localhost:8080/"
        },
        "id": "npDyB1RNidif",
        "outputId": "185c9238-9cc6-4d82-9e25-5c0c0c9f6bed"
      },
      "execution_count": null,
      "outputs": [
        {
          "output_type": "stream",
          "name": "stdout",
          "text": [
            "Model Response:\n",
            "Based on the patient's condition of \"Encounter for check up,\" the treatment plan and follow-up steps will involve the following:\n",
            "\n",
            "1. Comprehensive Physical Examination:\n",
            "   - Perform a thorough physical examination to assess the patient's overall health status, including vital signs, cardiovascular, respiratory, gastrointestinal, and neurological systems.\n",
            "\n",
            "2. Laboratory Tests:\n",
            "   - Order routine blood work, including complete blood count (CBC), blood chemistry panel, lipid profile, and thyroid function tests to evaluate the patient's internal health.\n",
            "\n",
            "3. Screening Tests:\n",
            "   - Conduct age-appropriate screening tests such as mammogram, Pap smear, colonoscopy, and prostate-specific antigen (PSA) test to check for any underlying health issues or early signs of diseases.\n",
            "\n",
            "4. Immunizations:\n",
            "   - Review the patient's immunization history and administer any necessary vaccines or booster shots based on current guidelines and recommendations.\n",
            "\n",
            "5. Lifestyle Modifications:\n",
            "   - Discuss healthy lifestyle habits with the patient, including recommendations for diet, exercise, stress management\n"
          ]
        }
      ]
    },
    {
      "cell_type": "code",
      "source": [
        "# Generate strategies for each patient\n",
        "strategies = []\n",
        "for index, row in final_profiles.iterrows():\n",
        "    context_prompt = generate_patient_context(row)\n",
        "    try:\n",
        "        response = get_model_response(context_prompt)\n",
        "        strategies.append(response)\n",
        "    except Exception as e:\n",
        "        print(f\"Error processing patient {row['PATIENT']}: {e}\")\n",
        "        strategies.append(\"Error generating strategy\")  # Append error message\n",
        "\n",
        "# Add strategies to the DataFrame\n",
        "final_profiles['STRATEGY'] = strategies\n",
        "\n",
        "# Save the updated DataFrame\n",
        "final_profiles.to_csv('merged_patient_profiles_with_strategies.csv', index=False)"
      ],
      "metadata": {
        "id": "V5q0kgln253D"
      },
      "execution_count": null,
      "outputs": []
    }
  ]
}